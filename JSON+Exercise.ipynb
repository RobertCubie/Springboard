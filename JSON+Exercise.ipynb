{
 "cells": [
  {
   "cell_type": "markdown",
   "metadata": {},
   "source": [
    "# JSON  / World Bank Exercise\n",
    "## 1) Find the 10 countries with most projects"
   ]
  },
  {
   "cell_type": "code",
   "execution_count": 2,
   "metadata": {
    "collapsed": true
   },
   "outputs": [],
   "source": [
    "#Import packages necessary for entire exercise.\n",
    "import pandas as pd\n",
    "import numpy as np\n",
    "import json\n",
    "from pandas.io.json import json_normalize"
   ]
  },
  {
   "cell_type": "code",
   "execution_count": 3,
   "metadata": {
    "collapsed": true
   },
   "outputs": [],
   "source": [
    "#For first question, directly read in JSON data as Pandas Data Frame : df\n",
    "df = pd.read_json('data/world_bank_projects.json')"
   ]
  },
  {
   "cell_type": "code",
   "execution_count": 4,
   "metadata": {
    "collapsed": false
   },
   "outputs": [
    {
     "name": "stdout",
     "output_type": "stream",
     "text": [
      "<class 'pandas.core.frame.DataFrame'>\n",
      "Int64Index: 500 entries, 0 to 499\n",
      "Data columns (total 50 columns):\n",
      "_id                         500 non-null object\n",
      "approvalfy                  500 non-null int64\n",
      "board_approval_month        500 non-null object\n",
      "boardapprovaldate           500 non-null object\n",
      "borrower                    485 non-null object\n",
      "closingdate                 370 non-null object\n",
      "country_namecode            500 non-null object\n",
      "countrycode                 500 non-null object\n",
      "countryname                 500 non-null object\n",
      "countryshortname            500 non-null object\n",
      "docty                       446 non-null object\n",
      "envassesmentcategorycode    430 non-null object\n",
      "grantamt                    500 non-null int64\n",
      "ibrdcommamt                 500 non-null int64\n",
      "id                          500 non-null object\n",
      "idacommamt                  500 non-null int64\n",
      "impagency                   472 non-null object\n",
      "lendinginstr                495 non-null object\n",
      "lendinginstrtype            495 non-null object\n",
      "lendprojectcost             500 non-null int64\n",
      "majorsector_percent         500 non-null object\n",
      "mjsector_namecode           500 non-null object\n",
      "mjtheme                     491 non-null object\n",
      "mjtheme_namecode            500 non-null object\n",
      "mjthemecode                 500 non-null object\n",
      "prodline                    500 non-null object\n",
      "prodlinetext                500 non-null object\n",
      "productlinetype             500 non-null object\n",
      "project_abstract            362 non-null object\n",
      "project_name                500 non-null object\n",
      "projectdocs                 446 non-null object\n",
      "projectfinancialtype        500 non-null object\n",
      "projectstatusdisplay        500 non-null object\n",
      "regionname                  500 non-null object\n",
      "sector                      500 non-null object\n",
      "sector1                     500 non-null object\n",
      "sector2                     380 non-null object\n",
      "sector3                     265 non-null object\n",
      "sector4                     174 non-null object\n",
      "sector_namecode             500 non-null object\n",
      "sectorcode                  500 non-null object\n",
      "source                      500 non-null object\n",
      "status                      500 non-null object\n",
      "supplementprojectflg        498 non-null object\n",
      "theme1                      500 non-null object\n",
      "theme_namecode              491 non-null object\n",
      "themecode                   491 non-null object\n",
      "totalamt                    500 non-null int64\n",
      "totalcommamt                500 non-null int64\n",
      "url                         500 non-null object\n",
      "dtypes: int64(7), object(43)\n",
      "memory usage: 199.2+ KB\n"
     ]
    }
   ],
   "source": [
    "#Examine nature of Data Frame.\n",
    "df.info()"
   ]
  },
  {
   "cell_type": "code",
   "execution_count": 5,
   "metadata": {
    "collapsed": true
   },
   "outputs": [],
   "source": [
    "#Large number of columns above requires expansion to further examine nature of data in each.\n",
    "pd.set_option(\"display.max_columns\", 50)"
   ]
  },
  {
   "cell_type": "code",
   "execution_count": 6,
   "metadata": {
    "collapsed": false
   },
   "outputs": [
    {
     "data": {
      "text/plain": [
       "True"
      ]
     },
     "execution_count": 6,
     "metadata": {},
     "output_type": "execute_result"
    }
   ],
   "source": [
    "#After further examination, column 'countryshortname' appears to be suitable for counting number of times a country appears based on projects undertaken.\n",
    "#First check that projects are not duplicated.\n",
    "df.project_name.is_unique"
   ]
  },
  {
   "cell_type": "code",
   "execution_count": 7,
   "metadata": {
    "collapsed": false
   },
   "outputs": [
    {
     "data": {
      "text/plain": [
       "China                 19\n",
       "Indonesia             19\n",
       "Vietnam               17\n",
       "India                 16\n",
       "Yemen, Republic of    13\n",
       "Bangladesh            12\n",
       "Nepal                 12\n",
       "Morocco               12\n",
       "Africa                11\n",
       "Mozambique            11\n",
       "Name: countryshortname, dtype: int64"
      ]
     },
     "execution_count": 7,
     "metadata": {},
     "output_type": "execute_result"
    }
   ],
   "source": [
    "#Now count number of times each country appears and list the top 10\n",
    "df.countryshortname.value_counts().head(10)"
   ]
  },
  {
   "cell_type": "code",
   "execution_count": 8,
   "metadata": {
    "collapsed": true
   },
   "outputs": [],
   "source": [
    "#'Africa' is listed as a country! A closer look at the data shows that, strictly speaking, Tanzania \n",
    "#should be in the top 10 as it appears twice under the umbrella of 'Africa' entries too."
   ]
  },
  {
   "cell_type": "markdown",
   "metadata": {},
   "source": [
    "## 2) Find the top 10 major project themes (using column 'mjtheme_namecode')"
   ]
  },
  {
   "cell_type": "code",
   "execution_count": 9,
   "metadata": {
    "collapsed": true
   },
   "outputs": [],
   "source": [
    "#From examination of data above, column 'mjtheme_namecode' contains lists of dictionaries.\n",
    "#To manipulate in Data Frame means data needs normalizing and so must be intially loaded in string format.\n",
    "data = json.load((open('data/world_bank_projects.json')))\n",
    "theme = json_normalize(data, 'mjtheme_namecode')"
   ]
  },
  {
   "cell_type": "code",
   "execution_count": 10,
   "metadata": {
    "collapsed": false
   },
   "outputs": [
    {
     "data": {
      "text/plain": [
       "themecon\n",
       "11 : Environment and natural resources management    223\n",
       "10 : Rural development                               202\n",
       "8 : Human development                                197\n",
       "2 : Public sector governance                         184\n",
       "6 : Social protection and risk management            158\n",
       "4 : Financial and private sector development         130\n",
       "7 : Social dev/gender/inclusion                      119\n",
       "5 : Trade and integration                             72\n",
       "9 : Urban development                                 47\n",
       "1 : Economic management                               33\n",
       "11 :                                                  27\n",
       "4 :                                                   16\n",
       "2 :                                                   15\n",
       "10 :                                                  14\n",
       "8 :                                                   13\n",
       "3 : Rule of law                                       12\n",
       "7 :                                                   11\n",
       "6 :                                                   10\n",
       "5 :                                                    5\n",
       "1 :                                                    5\n",
       "3 :                                                    3\n",
       "9 :                                                    3\n",
       "dtype: int64"
      ]
     },
     "execution_count": 10,
     "metadata": {},
     "output_type": "execute_result"
    }
   ],
   "source": [
    "#Examination of data using theme.info() and theme.code.nunique() / theme.name.nunique() reveals discrepancy of missing names.\n",
    "#Further look at extent of discrepancy across all 'code' values by creating new column: 'themecon'\n",
    "theme['themecon'] = theme['code'] + ' : ' + theme['name']\n",
    "#and then examining number of mismatches\n",
    "theme.groupby(theme.themecon).size().sort_values(ascending=False)"
   ]
  },
  {
   "cell_type": "code",
   "execution_count": 11,
   "metadata": {
    "collapsed": false
   },
   "outputs": [
    {
     "data": {
      "text/plain": [
       "code  name                                        \n",
       "11    Environment and natural resources management    223\n",
       "10    Rural development                               202\n",
       "8     Human development                               197\n",
       "2     Public sector governance                        184\n",
       "6     Social protection and risk management           158\n",
       "4     Financial and private sector development        130\n",
       "7     Social dev/gender/inclusion                     119\n",
       "5     Trade and integration                            72\n",
       "9     Urban development                                47\n",
       "1     Economic management                              33\n",
       "dtype: int64"
      ]
     },
     "execution_count": 11,
     "metadata": {},
     "output_type": "execute_result"
    }
   ],
   "source": [
    "#Widespread omissions of 'name' values.\n",
    "#In answering question, decided to only look at completed entries.\n",
    "theme.groupby(['code', 'name']).size().sort_values(ascending=False).head(10)"
   ]
  },
  {
   "cell_type": "markdown",
   "metadata": {},
   "source": [
    "## 3) In 2. above you will notice that some entries have only the code and the name is missing. Create a dataframe with the missing names filled in."
   ]
  },
  {
   "cell_type": "code",
   "execution_count": 12,
   "metadata": {
    "collapsed": true
   },
   "outputs": [],
   "source": [
    "#For easier manipulation, remove blank string entries in 'word' column and replace with Numpy NaNs.\n",
    "theme = theme.replace('', np.NaN)"
   ]
  },
  {
   "cell_type": "code",
   "execution_count": 13,
   "metadata": {
    "collapsed": true
   },
   "outputs": [],
   "source": [
    "#Then sort values on 2 indexes so that layout of data allows use of 'Fill' method.\n",
    "#Concurrently make sure NaNs are grouped and situated to see that method has worked.\n",
    "theme = theme.sort_values(['code', 'name'], na_position = 'first').fillna(method='bfill')"
   ]
  },
  {
   "cell_type": "code",
   "execution_count": 14,
   "metadata": {
    "collapsed": false
   },
   "outputs": [
    {
     "data": {
      "text/html": [
       "<div>\n",
       "<table border=\"1\" class=\"dataframe\">\n",
       "  <thead>\n",
       "    <tr style=\"text-align: right;\">\n",
       "      <th></th>\n",
       "      <th>code</th>\n",
       "      <th>name</th>\n",
       "      <th>themecon</th>\n",
       "    </tr>\n",
       "  </thead>\n",
       "  <tbody>\n",
       "    <tr>\n",
       "      <th>212</th>\n",
       "      <td>1</td>\n",
       "      <td>Economic management</td>\n",
       "      <td>1 :</td>\n",
       "    </tr>\n",
       "    <tr>\n",
       "      <th>363</th>\n",
       "      <td>1</td>\n",
       "      <td>Economic management</td>\n",
       "      <td>1 :</td>\n",
       "    </tr>\n",
       "    <tr>\n",
       "      <th>1024</th>\n",
       "      <td>1</td>\n",
       "      <td>Economic management</td>\n",
       "      <td>1 :</td>\n",
       "    </tr>\n",
       "    <tr>\n",
       "      <th>1114</th>\n",
       "      <td>1</td>\n",
       "      <td>Economic management</td>\n",
       "      <td>1 :</td>\n",
       "    </tr>\n",
       "    <tr>\n",
       "      <th>1437</th>\n",
       "      <td>1</td>\n",
       "      <td>Economic management</td>\n",
       "      <td>1 :</td>\n",
       "    </tr>\n",
       "  </tbody>\n",
       "</table>\n",
       "</div>"
      ],
      "text/plain": [
       "     code                 name themecon\n",
       "212     1  Economic management     1 : \n",
       "363     1  Economic management     1 : \n",
       "1024    1  Economic management     1 : \n",
       "1114    1  Economic management     1 : \n",
       "1437    1  Economic management     1 : "
      ]
     },
     "execution_count": 14,
     "metadata": {},
     "output_type": "execute_result"
    }
   ],
   "source": [
    "#Quick look at Data Frame 'theme' to see missing names filled in by correct code.\n",
    "theme.head()"
   ]
  },
  {
   "cell_type": "code",
   "execution_count": 15,
   "metadata": {
    "collapsed": true
   },
   "outputs": [],
   "source": [
    "#Forgot to delete additional column from earlier! Final tidy up.\n",
    "del theme['themecon']"
   ]
  }
 ],
 "metadata": {
  "kernelspec": {
   "display_name": "Python 3",
   "language": "python",
   "name": "python3"
  },
  "language_info": {
   "codemirror_mode": {
    "name": "ipython",
    "version": 3
   },
   "file_extension": ".py",
   "mimetype": "text/x-python",
   "name": "python",
   "nbconvert_exporter": "python",
   "pygments_lexer": "ipython3",
   "version": "3.5.2"
  }
 },
 "nbformat": 4,
 "nbformat_minor": 1
}
