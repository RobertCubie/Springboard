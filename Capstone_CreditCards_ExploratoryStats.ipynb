{
 "cells": [
  {
   "cell_type": "code",
   "execution_count": 1,
   "metadata": {
    "collapsed": true
   },
   "outputs": [],
   "source": [
    "#import the usual tools and read-in the edited data\n",
    "import pandas as pd\n",
    "import numpy as np\n",
    "import matplotlib.pyplot as plt\n",
    "import seaborn as sns\n",
    "import scipy.stats\n",
    "%matplotlib inline"
   ]
  },
  {
   "cell_type": "code",
   "execution_count": 2,
   "metadata": {
    "collapsed": true
   },
   "outputs": [],
   "source": [
    "df = pd.read_excel('Capstone Data.xls', index_col = 0)"
   ]
  },
  {
   "cell_type": "code",
   "execution_count": 3,
   "metadata": {
    "collapsed": true
   },
   "outputs": [],
   "source": [
    "pd.set_option(\"display.max_columns\", 50)"
   ]
  },
  {
   "cell_type": "code",
   "execution_count": 4,
   "metadata": {
    "collapsed": false
   },
   "outputs": [
    {
     "data": {
      "text/html": [
       "<div>\n",
       "<table border=\"1\" class=\"dataframe\">\n",
       "  <thead>\n",
       "    <tr style=\"text-align: right;\">\n",
       "      <th></th>\n",
       "      <th>LIMIT_BAL</th>\n",
       "      <th>SEX</th>\n",
       "      <th>EDUCATION</th>\n",
       "      <th>MARRIAGE</th>\n",
       "      <th>AGE</th>\n",
       "      <th>PAY_1</th>\n",
       "      <th>PAY_2</th>\n",
       "      <th>PAY_3</th>\n",
       "      <th>PAY_4</th>\n",
       "      <th>PAY_5</th>\n",
       "      <th>PAY_6</th>\n",
       "      <th>BILL_AMT1</th>\n",
       "      <th>BILL_AMT2</th>\n",
       "      <th>BILL_AMT3</th>\n",
       "      <th>BILL_AMT4</th>\n",
       "      <th>BILL_AMT5</th>\n",
       "      <th>BILL_AMT6</th>\n",
       "      <th>PAY_AMT1</th>\n",
       "      <th>PAY_AMT2</th>\n",
       "      <th>PAY_AMT3</th>\n",
       "      <th>PAY_AMT4</th>\n",
       "      <th>PAY_AMT5</th>\n",
       "      <th>PAY_AMT6</th>\n",
       "      <th>DEFAULT</th>\n",
       "    </tr>\n",
       "    <tr>\n",
       "      <th>ID</th>\n",
       "      <th></th>\n",
       "      <th></th>\n",
       "      <th></th>\n",
       "      <th></th>\n",
       "      <th></th>\n",
       "      <th></th>\n",
       "      <th></th>\n",
       "      <th></th>\n",
       "      <th></th>\n",
       "      <th></th>\n",
       "      <th></th>\n",
       "      <th></th>\n",
       "      <th></th>\n",
       "      <th></th>\n",
       "      <th></th>\n",
       "      <th></th>\n",
       "      <th></th>\n",
       "      <th></th>\n",
       "      <th></th>\n",
       "      <th></th>\n",
       "      <th></th>\n",
       "      <th></th>\n",
       "      <th></th>\n",
       "      <th></th>\n",
       "    </tr>\n",
       "  </thead>\n",
       "  <tbody>\n",
       "    <tr>\n",
       "      <th>1</th>\n",
       "      <td>20000</td>\n",
       "      <td>2</td>\n",
       "      <td>2</td>\n",
       "      <td>1</td>\n",
       "      <td>24</td>\n",
       "      <td>1</td>\n",
       "      <td>1</td>\n",
       "      <td>2</td>\n",
       "      <td>2</td>\n",
       "      <td>5</td>\n",
       "      <td>5</td>\n",
       "      <td>0</td>\n",
       "      <td>0</td>\n",
       "      <td>0</td>\n",
       "      <td>689</td>\n",
       "      <td>3102</td>\n",
       "      <td>3913</td>\n",
       "      <td>0</td>\n",
       "      <td>0</td>\n",
       "      <td>0</td>\n",
       "      <td>0</td>\n",
       "      <td>689</td>\n",
       "      <td>0</td>\n",
       "      <td>1</td>\n",
       "    </tr>\n",
       "    <tr>\n",
       "      <th>2</th>\n",
       "      <td>120000</td>\n",
       "      <td>2</td>\n",
       "      <td>2</td>\n",
       "      <td>2</td>\n",
       "      <td>26</td>\n",
       "      <td>5</td>\n",
       "      <td>3</td>\n",
       "      <td>3</td>\n",
       "      <td>3</td>\n",
       "      <td>5</td>\n",
       "      <td>2</td>\n",
       "      <td>3261</td>\n",
       "      <td>3455</td>\n",
       "      <td>3272</td>\n",
       "      <td>2682</td>\n",
       "      <td>1725</td>\n",
       "      <td>2682</td>\n",
       "      <td>2000</td>\n",
       "      <td>0</td>\n",
       "      <td>1000</td>\n",
       "      <td>1000</td>\n",
       "      <td>1000</td>\n",
       "      <td>0</td>\n",
       "      <td>1</td>\n",
       "    </tr>\n",
       "    <tr>\n",
       "      <th>3</th>\n",
       "      <td>90000</td>\n",
       "      <td>2</td>\n",
       "      <td>2</td>\n",
       "      <td>2</td>\n",
       "      <td>34</td>\n",
       "      <td>3</td>\n",
       "      <td>3</td>\n",
       "      <td>3</td>\n",
       "      <td>3</td>\n",
       "      <td>3</td>\n",
       "      <td>3</td>\n",
       "      <td>15549</td>\n",
       "      <td>14948</td>\n",
       "      <td>14331</td>\n",
       "      <td>13559</td>\n",
       "      <td>14027</td>\n",
       "      <td>29239</td>\n",
       "      <td>5000</td>\n",
       "      <td>1000</td>\n",
       "      <td>1000</td>\n",
       "      <td>1000</td>\n",
       "      <td>1500</td>\n",
       "      <td>1518</td>\n",
       "      <td>0</td>\n",
       "    </tr>\n",
       "    <tr>\n",
       "      <th>4</th>\n",
       "      <td>50000</td>\n",
       "      <td>2</td>\n",
       "      <td>2</td>\n",
       "      <td>1</td>\n",
       "      <td>37</td>\n",
       "      <td>3</td>\n",
       "      <td>3</td>\n",
       "      <td>3</td>\n",
       "      <td>3</td>\n",
       "      <td>3</td>\n",
       "      <td>3</td>\n",
       "      <td>29547</td>\n",
       "      <td>28959</td>\n",
       "      <td>28314</td>\n",
       "      <td>49291</td>\n",
       "      <td>48233</td>\n",
       "      <td>46990</td>\n",
       "      <td>1000</td>\n",
       "      <td>1069</td>\n",
       "      <td>1100</td>\n",
       "      <td>1200</td>\n",
       "      <td>2019</td>\n",
       "      <td>2000</td>\n",
       "      <td>0</td>\n",
       "    </tr>\n",
       "    <tr>\n",
       "      <th>5</th>\n",
       "      <td>50000</td>\n",
       "      <td>1</td>\n",
       "      <td>2</td>\n",
       "      <td>1</td>\n",
       "      <td>57</td>\n",
       "      <td>3</td>\n",
       "      <td>3</td>\n",
       "      <td>3</td>\n",
       "      <td>2</td>\n",
       "      <td>3</td>\n",
       "      <td>2</td>\n",
       "      <td>19131</td>\n",
       "      <td>19146</td>\n",
       "      <td>20940</td>\n",
       "      <td>35835</td>\n",
       "      <td>5670</td>\n",
       "      <td>8617</td>\n",
       "      <td>679</td>\n",
       "      <td>689</td>\n",
       "      <td>9000</td>\n",
       "      <td>10000</td>\n",
       "      <td>36681</td>\n",
       "      <td>2000</td>\n",
       "      <td>0</td>\n",
       "    </tr>\n",
       "  </tbody>\n",
       "</table>\n",
       "</div>"
      ],
      "text/plain": [
       "    LIMIT_BAL  SEX  EDUCATION  MARRIAGE  AGE  PAY_1  PAY_2  PAY_3  PAY_4  \\\n",
       "ID                                                                         \n",
       "1       20000    2          2         1   24      1      1      2      2   \n",
       "2      120000    2          2         2   26      5      3      3      3   \n",
       "3       90000    2          2         2   34      3      3      3      3   \n",
       "4       50000    2          2         1   37      3      3      3      3   \n",
       "5       50000    1          2         1   57      3      3      3      2   \n",
       "\n",
       "    PAY_5  PAY_6  BILL_AMT1  BILL_AMT2  BILL_AMT3  BILL_AMT4  BILL_AMT5  \\\n",
       "ID                                                                        \n",
       "1       5      5          0          0          0        689       3102   \n",
       "2       5      2       3261       3455       3272       2682       1725   \n",
       "3       3      3      15549      14948      14331      13559      14027   \n",
       "4       3      3      29547      28959      28314      49291      48233   \n",
       "5       3      2      19131      19146      20940      35835       5670   \n",
       "\n",
       "    BILL_AMT6  PAY_AMT1  PAY_AMT2  PAY_AMT3  PAY_AMT4  PAY_AMT5  PAY_AMT6  \\\n",
       "ID                                                                          \n",
       "1        3913         0         0         0         0       689         0   \n",
       "2        2682      2000         0      1000      1000      1000         0   \n",
       "3       29239      5000      1000      1000      1000      1500      1518   \n",
       "4       46990      1000      1069      1100      1200      2019      2000   \n",
       "5        8617       679       689      9000     10000     36681      2000   \n",
       "\n",
       "    DEFAULT  \n",
       "ID           \n",
       "1         1  \n",
       "2         1  \n",
       "3         0  \n",
       "4         0  \n",
       "5         0  "
      ]
     },
     "execution_count": 4,
     "metadata": {},
     "output_type": "execute_result"
    }
   ],
   "source": [
    "df.head()"
   ]
  },
  {
   "cell_type": "markdown",
   "metadata": {},
   "source": [
    "# Features\n",
    "\n",
    "Before checking the explanatory variables for measures of association with the explained variable ('DEFAULT'), I created from the existing data some new features that conventional wisdom would suggest may have some effect upon the explained variable. I also took summaries of some of the variables that were measured at different time periods in order to reduce some collinearity in the model and hopefully make interpretation more straightforward."
   ]
  },
  {
   "cell_type": "markdown",
   "metadata": {},
   "source": [
    "The payment amount made by an individual each month is recorded over 6 consecutive time periods. To condense and get a better view of indiviudal average behaviour, I made a feature of the mean payment amount each month. To examine whether there was significant difference in the effect upon Default of payments closer to the Default period or those further away, I also took averages for the first 3 months (period A) and the last 3 months (period B). Any siginifcant difference or, perhaps more importantly, lack of difference may indicate that likelihood of default can be spotted looking further back in time looking out to 4-6 months in advance."
   ]
  },
  {
   "cell_type": "code",
   "execution_count": 5,
   "metadata": {
    "collapsed": true
   },
   "outputs": [],
   "source": [
    "df['PAY_AMT_AVG_FULL'] = (df['PAY_AMT1'] + df['PAY_AMT2'] + df['PAY_AMT3'] + df['PAY_AMT4'] + df['PAY_AMT5'] + df['PAY_AMT6']) / 6\n",
    "df['PAY_AMT_AVG_A'] = (df['PAY_AMT1'] + df['PAY_AMT2'] + df['PAY_AMT3']) / 3\n",
    "df['PAY_AMT_AVG_B'] = (df['PAY_AMT4'] + df['PAY_AMT5'] + df['PAY_AMT6']) / 3"
   ]
  },
  {
   "cell_type": "markdown",
   "metadata": {},
   "source": [
    "Using the same intuition as above, I repeated the process for the amount that an individual is billed each month over the 6 recorded periods."
   ]
  },
  {
   "cell_type": "code",
   "execution_count": 6,
   "metadata": {
    "collapsed": true
   },
   "outputs": [],
   "source": [
    "df['BILL_AMT_AVG_FULL'] = (df['BILL_AMT1'] + df['BILL_AMT2'] + df['BILL_AMT3'] + df['BILL_AMT4'] + df['BILL_AMT5'] + df['BILL_AMT6']) / 6\n",
    "df['BILL_AMT_AVG_A'] = (df['BILL_AMT1'] + df['BILL_AMT2'] + df['BILL_AMT3']) / 3\n",
    "df['BILL_AMT_AVG_B'] = (df['BILL_AMT4'] + df['BILL_AMT5'] + df['BILL_AMT6']) / 3"
   ]
  },
  {
   "cell_type": "markdown",
   "metadata": {},
   "source": [
    "I repeated again for the repayment score. As a recap, this was a score inferred from the original data set; a higher score indicating that the individual has delayed payment for a greater amount of months (delay being distinct from actual default) and a lower score little or no delay in payment."
   ]
  },
  {
   "cell_type": "code",
   "execution_count": 7,
   "metadata": {
    "collapsed": true
   },
   "outputs": [],
   "source": [
    "df['REPAY_AVG_FULL'] = (df['PAY_1'] + df['PAY_2'] + df['PAY_3'] + df['PAY_4'] + df['PAY_5'] + df['PAY_6']) / 6\n",
    "df['REPAY_AVG_A'] = (df['PAY_1'] + df['PAY_2'] + df['PAY_3']) / 3\n",
    "df['REPAY_AVG_B'] = (df['PAY_4'] + df['PAY_5'] + df['PAY_6']) / 3"
   ]
  },
  {
   "cell_type": "markdown",
   "metadata": {},
   "source": [
    "Conventional wisdom would suggest that the bill amount requires further context in explaining the likelihood of Default, particularly is reltaion to the individual's ability to pay the bill. The Limit Amount on an individual's account is our best estimator here of their ability to pay (as judged by the credit card company), so it is interesting to look at the size of the bill with that in mind. I looked at the ratio between the two and took averages as with the previous explanatory variables above."
   ]
  },
  {
   "cell_type": "code",
   "execution_count": 8,
   "metadata": {
    "collapsed": true
   },
   "outputs": [],
   "source": [
    "df['BILL_LIMIT_RAT_1'] = df['BILL_AMT1'] / df['LIMIT_BAL']\n",
    "df['BILL_LIMIT_RAT_2'] = df['BILL_AMT2'] / df['LIMIT_BAL']\n",
    "df['BILL_LIMIT_RAT_3'] = df['BILL_AMT3'] / df['LIMIT_BAL']\n",
    "df['BILL_LIMIT_RAT_4'] = df['BILL_AMT4'] / df['LIMIT_BAL']\n",
    "df['BILL_LIMIT_RAT_5'] = df['BILL_AMT5'] / df['LIMIT_BAL']\n",
    "df['BILL_LIMIT_RAT_6'] = df['BILL_AMT6'] / df['LIMIT_BAL']\n",
    "\n",
    "df['BILL_LIMIT_RAT_AVG_FULL'] = (df['BILL_LIMIT_RAT_1'] + df['BILL_LIMIT_RAT_2'] + df['BILL_LIMIT_RAT_3'] + df['BILL_LIMIT_RAT_4'] + df['BILL_LIMIT_RAT_5'] + df['BILL_LIMIT_RAT_6']) / 6\n",
    "df['BILL_LIMIT_RAT_AVG_A'] = (df['BILL_LIMIT_RAT_1'] + df['BILL_LIMIT_RAT_2'] + df['BILL_LIMIT_RAT_3']) / 3\n",
    "df['BILL_LIMIT_RAT_AVG_B'] = (df['BILL_LIMIT_RAT_4'] + df['BILL_LIMIT_RAT_5'] + df['BILL_LIMIT_RAT_6']) / 3"
   ]
  },
  {
   "cell_type": "markdown",
   "metadata": {},
   "source": [
    "Again, as an alternative to just looking at the absolute values in isolation, I wanted to get a basic idea of the trajectory of payments in the run-up and a look at an individual's payment pattern. I created a payment score based on how many consecutive times an individual's monthly payments decreased immediately prior to the default period with a maximum score of 5 (payment decreases in last month an every month prior) and minimum score of 0 (payment increases in last month). This would also potentially be of use identifying higher-risk behaviour in advance."
   ]
  },
  {
   "cell_type": "code",
   "execution_count": 9,
   "metadata": {
    "collapsed": false
   },
   "outputs": [],
   "source": [
    "def pay_score(row):\n",
    "    if (row['PAY_AMT6'] < row['PAY_AMT5']) & (row['PAY_AMT5'] < row['PAY_AMT4']) & (row['PAY_AMT4'] < row['PAY_AMT3']) & (row['PAY_AMT3'] < row['PAY_AMT2']) & (row['PAY_AMT2'] < row['PAY_AMT1']):\n",
    "        return 5\n",
    "    elif (row['PAY_AMT6'] < row['PAY_AMT5']) & (row['PAY_AMT5'] < row['PAY_AMT4']) & (row['PAY_AMT4'] < row['PAY_AMT3']) & (row['PAY_AMT3'] < row['PAY_AMT2']) & (row['PAY_AMT2'] >= row['PAY_AMT1']):\n",
    "        return 4\n",
    "    elif (row['PAY_AMT6'] < row['PAY_AMT5']) & (row['PAY_AMT5'] < row['PAY_AMT4']) & (row['PAY_AMT4'] < row['PAY_AMT3']) & (row['PAY_AMT3'] >= row['PAY_AMT2']):\n",
    "        return 3\n",
    "    elif (row['PAY_AMT6'] < row['PAY_AMT5']) & (row['PAY_AMT5'] < row['PAY_AMT4']) & (row['PAY_AMT4'] >= row['PAY_AMT3']):\n",
    "        return 2\n",
    "    elif (row['PAY_AMT6'] < row['PAY_AMT5']) & (row['PAY_AMT5'] >= row['PAY_AMT4']):\n",
    "        return 1\n",
    "    elif (row['PAY_AMT6'] >= row['PAY_AMT5']):\n",
    "        return 0"
   ]
  },
  {
   "cell_type": "code",
   "execution_count": 10,
   "metadata": {
    "collapsed": true
   },
   "outputs": [],
   "source": [
    "df['PAY_SCORE'] = df.apply(lambda row: pay_score(row), axis=1)"
   ]
  },
  {
   "cell_type": "code",
   "execution_count": 11,
   "metadata": {
    "collapsed": false
   },
   "outputs": [
    {
     "data": {
      "text/plain": [
       "0    18024\n",
       "1     9281\n",
       "2     2219\n",
       "3      370\n",
       "4       72\n",
       "5       34\n",
       "Name: PAY_SCORE, dtype: int64"
      ]
     },
     "execution_count": 11,
     "metadata": {},
     "output_type": "execute_result"
    }
   ],
   "source": [
    "df['PAY_SCORE'].value_counts()"
   ]
  },
  {
   "cell_type": "markdown",
   "metadata": {},
   "source": [
    "Repeated above to also create a bill score; highest score of 5 (bill increases in last month and every month prior) and lowest score 0 (bill decreases in last month before Default period)."
   ]
  },
  {
   "cell_type": "code",
   "execution_count": 12,
   "metadata": {
    "collapsed": false
   },
   "outputs": [],
   "source": [
    "def bill_score(row):\n",
    "    if (row['BILL_AMT6'] > row['BILL_AMT5']) & (row['BILL_AMT5'] > row['BILL_AMT4']) & (row['BILL_AMT4'] > row['BILL_AMT3']) & (row['BILL_AMT3'] > row['BILL_AMT2']) & (row['BILL_AMT2'] > row['BILL_AMT1']):\n",
    "        return 5\n",
    "    elif (row['BILL_AMT6'] > row['BILL_AMT5']) & (row['BILL_AMT5'] > row['BILL_AMT4']) & (row['BILL_AMT4'] > row['BILL_AMT3']) & (row['BILL_AMT3'] > row['BILL_AMT2']) & (row['BILL_AMT2'] <= row['BILL_AMT1']):\n",
    "        return 4\n",
    "    elif (row['BILL_AMT6'] > row['BILL_AMT5']) & (row['BILL_AMT5'] > row['BILL_AMT4']) & (row['BILL_AMT4'] > row['BILL_AMT3']) & (row['BILL_AMT3'] <= row['BILL_AMT2']):\n",
    "        return 3\n",
    "    elif (row['BILL_AMT6'] > row['BILL_AMT5']) & (row['BILL_AMT5'] > row['BILL_AMT4']) & (row['BILL_AMT4'] <= row['BILL_AMT3']):\n",
    "        return 2\n",
    "    elif (row['BILL_AMT6'] > row['BILL_AMT5']) & (row['BILL_AMT5'] <= row['BILL_AMT4']):\n",
    "        return 1\n",
    "    elif (row['BILL_AMT6'] <= row['BILL_AMT5']): \n",
    "        return 0"
   ]
  },
  {
   "cell_type": "code",
   "execution_count": 13,
   "metadata": {
    "collapsed": true
   },
   "outputs": [],
   "source": [
    "df['BILL_SCORE'] = df.apply(lambda row: bill_score(row), axis=1)"
   ]
  },
  {
   "cell_type": "code",
   "execution_count": 14,
   "metadata": {
    "collapsed": false
   },
   "outputs": [
    {
     "data": {
      "text/plain": [
       "0    16850\n",
       "1     6647\n",
       "2     2545\n",
       "5     1654\n",
       "3     1378\n",
       "4      926\n",
       "Name: BILL_SCORE, dtype: int64"
      ]
     },
     "execution_count": 14,
     "metadata": {},
     "output_type": "execute_result"
    }
   ],
   "source": [
    "df['BILL_SCORE'].value_counts()"
   ]
  },
  {
   "cell_type": "markdown",
   "metadata": {},
   "source": [
    "Also applied this to the repayment score to see whether consecutively increasing payment delay in the months immediately prior to default period was useful in explaining the dependent variable."
   ]
  },
  {
   "cell_type": "code",
   "execution_count": 15,
   "metadata": {
    "collapsed": true
   },
   "outputs": [],
   "source": [
    "def repay_score(row):\n",
    "    if (row['PAY_6'] > row['PAY_5']) & (row['PAY_5'] > row['PAY_4']) & (row['PAY_4'] > row['PAY_3']) & (row['PAY_3'] > row['PAY_2']) & (row['PAY_2'] > row['PAY_1']):\n",
    "        return 5\n",
    "    elif (row['PAY_6'] > row['PAY_5']) & (row['PAY_5'] > row['PAY_4']) & (row['PAY_4'] > row['PAY_3']) & (row['PAY_3'] > row['PAY_2']) & (row['PAY_2'] <= row['PAY_1']):\n",
    "        return 4\n",
    "    elif (row['PAY_6'] > row['PAY_5']) & (row['PAY_5'] > row['PAY_4']) & (row['PAY_4'] > row['PAY_3']) & (row['PAY_3'] <= row['PAY_2']):\n",
    "        return 3\n",
    "    elif (row['PAY_6'] > row['PAY_5']) & (row['PAY_5'] > row['PAY_4']) & (row['PAY_4'] <= row['PAY_3']):\n",
    "        return 2\n",
    "    elif (row['PAY_6'] > row['PAY_5']) & (row['PAY_5'] <= row['PAY_4']):\n",
    "        return 1\n",
    "    elif (row['PAY_6'] <= row['PAY_5']): \n",
    "        return 0"
   ]
  },
  {
   "cell_type": "code",
   "execution_count": 16,
   "metadata": {
    "collapsed": true
   },
   "outputs": [],
   "source": [
    "df['REPAY_SCORE'] = df.apply(lambda row: repay_score(row), axis=1)"
   ]
  },
  {
   "cell_type": "code",
   "execution_count": 17,
   "metadata": {
    "collapsed": false
   },
   "outputs": [
    {
     "data": {
      "text/plain": [
       "0    26301\n",
       "1     3509\n",
       "2      101\n",
       "3       39\n",
       "5       36\n",
       "4       14\n",
       "Name: REPAY_SCORE, dtype: int64"
      ]
     },
     "execution_count": 17,
     "metadata": {},
     "output_type": "execute_result"
    }
   ],
   "source": [
    "df['REPAY_SCORE'].value_counts()"
   ]
  },
  {
   "cell_type": "markdown",
   "metadata": {},
   "source": [
    "To smooth out some of the previously seen higher variance for very particular ages where there were few individuals, I split the age data into categorical groups. This would hopefully more clearly highlight any relationship between age and default, rather than relying on a total consistency of correlation across all individual years."
   ]
  },
  {
   "cell_type": "code",
   "execution_count": 18,
   "metadata": {
    "collapsed": false
   },
   "outputs": [
    {
     "data": {
      "text/plain": [
       "count    30000.000000\n",
       "mean        35.485500\n",
       "std          9.217904\n",
       "min         21.000000\n",
       "25%         28.000000\n",
       "50%         34.000000\n",
       "75%         41.000000\n",
       "max         79.000000\n",
       "Name: AGE, dtype: float64"
      ]
     },
     "execution_count": 18,
     "metadata": {},
     "output_type": "execute_result"
    }
   ],
   "source": [
    "df.AGE.describe()"
   ]
  },
  {
   "cell_type": "code",
   "execution_count": 19,
   "metadata": {
    "collapsed": true
   },
   "outputs": [],
   "source": [
    "bins = [20, 30, 40, 50, 60, 70, 80]\n",
    "group_names = ['21-30', '31-40', '41-50', '51-60', '61-70', '71-80']\n",
    "\n",
    "df['AGE_GROUP'] = pd.cut(df['AGE'], bins, labels = group_names)"
   ]
  },
  {
   "cell_type": "markdown",
   "metadata": {},
   "source": [
    "As previously discussed, I also cut rows where the description was missing from the original data set and set particular columns to the correct data type. The loss of rows is realtively slight."
   ]
  },
  {
   "cell_type": "code",
   "execution_count": 20,
   "metadata": {
    "collapsed": false
   },
   "outputs": [
    {
     "data": {
      "text/plain": [
       "29946"
      ]
     },
     "execution_count": 20,
     "metadata": {},
     "output_type": "execute_result"
    }
   ],
   "source": [
    "#drop unidentified marriage group\n",
    "df = df[df['MARRIAGE'] != 0.0]\n",
    "len(df)"
   ]
  },
  {
   "cell_type": "code",
   "execution_count": 21,
   "metadata": {
    "collapsed": false
   },
   "outputs": [
    {
     "data": {
      "text/plain": [
       "29478"
      ]
     },
     "execution_count": 21,
     "metadata": {},
     "output_type": "execute_result"
    }
   ],
   "source": [
    "#drop unidentified education groups\n",
    "df = df[(df['EDUCATION'] <= 3.0) & (df['EDUCATION'] >= 1.0)]\n",
    "len(df)"
   ]
  },
  {
   "cell_type": "code",
   "execution_count": 22,
   "metadata": {
    "collapsed": true
   },
   "outputs": [],
   "source": [
    "for col in ['MARRIAGE', 'SEX', 'EDUCATION', 'AGE_GROUP', 'DEFAULT']:\n",
    "    df[col] = df[col].astype('category')"
   ]
  },
  {
   "cell_type": "code",
   "execution_count": 23,
   "metadata": {
    "collapsed": true
   },
   "outputs": [],
   "source": [
    "df.to_excel('Capstone Data Final.xls')"
   ]
  },
  {
   "cell_type": "code",
   "execution_count": 24,
   "metadata": {
    "collapsed": true
   },
   "outputs": [],
   "source": [
    "df = pd.read_excel('Capstone Data Final.xls', index_col = 0)"
   ]
  },
  {
   "cell_type": "markdown",
   "metadata": {},
   "source": [
    "# Exploratory Statistics"
   ]
  },
  {
   "cell_type": "markdown",
   "metadata": {
    "collapsed": true
   },
   "source": [
    "Due to the mixed nature of the explanatory variables and the explained variable itself, I required two different tests to measure for any associations; one for the continuous variables and one for the categorical variables.\n",
    "\n",
    "### Continuous Explanatory Variables\n",
    "The appropriate test statistic for association between a continuous explanatory variable and a dichotomous explained variable is the point birserial correlation coefficient. I firstly examined the relevant variables with this test."
   ]
  },
  {
   "cell_type": "code",
   "execution_count": 25,
   "metadata": {
    "collapsed": true
   },
   "outputs": [],
   "source": [
    "#creating dataframe of just the columns of continuous variables\n",
    "df_cont = df[['PAY_AMT_AVG_FULL', 'PAY_AMT_AVG_A', 'PAY_AMT_AVG_B', 'BILL_AMT_AVG_FULL', 'BILL_AMT_AVG_A', 'BILL_AMT_AVG_B',\n",
    "             'BILL_LIMIT_RAT_AVG_FULL', 'BILL_LIMIT_RAT_AVG_A', 'BILL_LIMIT_RAT_AVG_B', 'REPAY_AVG_FULL', 'REPAY_AVG_A', 'REPAY_AVG_B', 'PAY_SCORE', 'BILL_SCORE', 'REPAY_SCORE']]"
   ]
  },
  {
   "cell_type": "code",
   "execution_count": 26,
   "metadata": {
    "collapsed": false
   },
   "outputs": [],
   "source": [
    "cols = df_cont.columns.tolist()"
   ]
  },
  {
   "cell_type": "code",
   "execution_count": 27,
   "metadata": {
    "collapsed": false
   },
   "outputs": [
    {
     "name": "stdout",
     "output_type": "stream",
     "text": [
      "PAY_AMT_AVG_FULL : PointbiserialrResult(correlation=-0.1028140290304192, pvalue=4.3084250798492785e-70)\n",
      "PAY_AMT_AVG_A : PointbiserialrResult(correlation=-0.083886744172108896, pvalue=3.4759414131253916e-47)\n",
      "PAY_AMT_AVG_B : PointbiserialrResult(correlation=-0.086675426091355978, pvalue=2.8858218386948041e-50)\n",
      "BILL_AMT_AVG_FULL : PointbiserialrResult(correlation=-0.012270581536249492, pvalue=0.035139641769359915)\n",
      "BILL_AMT_AVG_A : PointbiserialrResult(correlation=-0.0072382171915603482, pvalue=0.21397672555775793)\n",
      "BILL_AMT_AVG_B : PointbiserialrResult(correlation=-0.016089355643618214, pvalue=0.0057366078190698565)\n",
      "BILL_LIMIT_RAT_AVG_FULL : PointbiserialrResult(correlation=0.11602927235982868, pvalue=7.0125645887504676e-89)\n",
      "BILL_LIMIT_RAT_AVG_A : PointbiserialrResult(correlation=0.12497608588778034, pvalue=6.4399539751104277e-103)\n",
      "BILL_LIMIT_RAT_AVG_B : PointbiserialrResult(correlation=0.099873028896928881, pvalue=3.1759686638043302e-66)\n",
      "REPAY_AVG_FULL : PointbiserialrResult(correlation=0.2825103901226616, pvalue=0.0)\n",
      "REPAY_AVG_A : PointbiserialrResult(correlation=0.21917866028183006, pvalue=1.6342723195762587e-317)\n",
      "REPAY_AVG_B : PointbiserialrResult(correlation=0.31013552143717055, pvalue=0.0)\n",
      "PAY_SCORE : PointbiserialrResult(correlation=-0.014991780646192625, pvalue=0.010053083856177291)\n",
      "BILL_SCORE : PointbiserialrResult(correlation=-0.059587901672893739, pvalue=1.3204434471827693e-24)\n",
      "REPAY_SCORE : PointbiserialrResult(correlation=0.16041368279632226, pvalue=3.986736718012442e-169)\n"
     ]
    }
   ],
   "source": [
    "for col in cols:\n",
    "    result = scipy.stats.pointbiserialr(df_cont[col], df['DEFAULT'])\n",
    "    print (col, ':',  result)"
   ]
  },
  {
   "cell_type": "markdown",
   "metadata": {},
   "source": [
    "In many of the instances above there is a significant p-value despite a pretty low correlation coefficient, most likely due to the sheer size of the sample. \n",
    "\n",
    "The Payment Amounts follow conventional wisdom in having a negative coefficient whereas the Bill Amounts are perhaps surprisingly also negative. As discussed above, this is possibly due to the lack of context in the Bill Amounts alone and in fact we can see that the ratio off Bill Amount to Limit Amount is positive correlated with Default, as expected. The Bill Amounts also do not appear to be significant on their own, again, probably for the reasons already outlined.\n",
    "\n",
    "The Repayment Delay variables appear to be the most strongly correlated overall, with the later period (B) more strongly correlated than the earlier (A). The Repayment Delay Score is also positively correlated; as expected, if delays increase, likelihood of Default also does.\n",
    "\n",
    "The Pay Score and Bill Score though are negatively correlated which runs contrary to intuition as the higher scores either represent payments getting lower or bills getting higher over time. The coefficients are so small though that there appears to be pretty much no relationship despite the p-values.\n",
    "\n",
    "Some of the variables will be dropped accordingly."
   ]
  },
  {
   "cell_type": "code",
   "execution_count": 28,
   "metadata": {
    "collapsed": false
   },
   "outputs": [
    {
     "data": {
      "text/html": [
       "<div>\n",
       "<table border=\"1\" class=\"dataframe\">\n",
       "  <thead>\n",
       "    <tr style=\"text-align: right;\">\n",
       "      <th></th>\n",
       "      <th>PAY_AMT_AVG_FULL</th>\n",
       "      <th>PAY_AMT_AVG_A</th>\n",
       "      <th>PAY_AMT_AVG_B</th>\n",
       "      <th>BILL_AMT_AVG_FULL</th>\n",
       "      <th>BILL_AMT_AVG_A</th>\n",
       "      <th>BILL_AMT_AVG_B</th>\n",
       "      <th>BILL_LIMIT_RAT_AVG_FULL</th>\n",
       "      <th>BILL_LIMIT_RAT_AVG_A</th>\n",
       "      <th>BILL_LIMIT_RAT_AVG_B</th>\n",
       "      <th>REPAY_AVG_FULL</th>\n",
       "      <th>REPAY_AVG_A</th>\n",
       "      <th>REPAY_AVG_B</th>\n",
       "      <th>PAY_SCORE</th>\n",
       "      <th>BILL_SCORE</th>\n",
       "      <th>REPAY_SCORE</th>\n",
       "    </tr>\n",
       "  </thead>\n",
       "  <tbody>\n",
       "    <tr>\n",
       "      <th>PAY_AMT_AVG_FULL</th>\n",
       "      <td>1.000000</td>\n",
       "      <td>0.779997</td>\n",
       "      <td>0.871202</td>\n",
       "      <td>0.342690</td>\n",
       "      <td>0.367464</td>\n",
       "      <td>0.306119</td>\n",
       "      <td>0.029855</td>\n",
       "      <td>0.050664</td>\n",
       "      <td>0.009488</td>\n",
       "      <td>-0.075987</td>\n",
       "      <td>-0.036067</td>\n",
       "      <td>-0.106941</td>\n",
       "      <td>0.072398</td>\n",
       "      <td>0.011251</td>\n",
       "      <td>-0.038141</td>\n",
       "    </tr>\n",
       "    <tr>\n",
       "      <th>PAY_AMT_AVG_A</th>\n",
       "      <td>0.779997</td>\n",
       "      <td>1.000000</td>\n",
       "      <td>0.372324</td>\n",
       "      <td>0.279179</td>\n",
       "      <td>0.293926</td>\n",
       "      <td>0.254094</td>\n",
       "      <td>0.006446</td>\n",
       "      <td>0.020674</td>\n",
       "      <td>-0.006480</td>\n",
       "      <td>-0.070322</td>\n",
       "      <td>-0.050749</td>\n",
       "      <td>-0.081113</td>\n",
       "      <td>0.058224</td>\n",
       "      <td>0.060223</td>\n",
       "      <td>-0.043340</td>\n",
       "    </tr>\n",
       "    <tr>\n",
       "      <th>PAY_AMT_AVG_B</th>\n",
       "      <td>0.871202</td>\n",
       "      <td>0.372324</td>\n",
       "      <td>1.000000</td>\n",
       "      <td>0.289232</td>\n",
       "      <td>0.314405</td>\n",
       "      <td>0.254671</td>\n",
       "      <td>0.039222</td>\n",
       "      <td>0.058921</td>\n",
       "      <td>0.019155</td>\n",
       "      <td>-0.057530</td>\n",
       "      <td>-0.013679</td>\n",
       "      <td>-0.094972</td>\n",
       "      <td>0.061697</td>\n",
       "      <td>-0.030558</td>\n",
       "      <td>-0.022567</td>\n",
       "    </tr>\n",
       "    <tr>\n",
       "      <th>BILL_AMT_AVG_FULL</th>\n",
       "      <td>0.342690</td>\n",
       "      <td>0.279179</td>\n",
       "      <td>0.289232</td>\n",
       "      <td>1.000000</td>\n",
       "      <td>0.972689</td>\n",
       "      <td>0.979573</td>\n",
       "      <td>0.545919</td>\n",
       "      <td>0.521150</td>\n",
       "      <td>0.528470</td>\n",
       "      <td>0.281191</td>\n",
       "      <td>0.274628</td>\n",
       "      <td>0.250643</td>\n",
       "      <td>0.032593</td>\n",
       "      <td>0.138539</td>\n",
       "      <td>-0.079648</td>\n",
       "    </tr>\n",
       "    <tr>\n",
       "      <th>BILL_AMT_AVG_A</th>\n",
       "      <td>0.367464</td>\n",
       "      <td>0.293926</td>\n",
       "      <td>0.314405</td>\n",
       "      <td>0.972689</td>\n",
       "      <td>1.000000</td>\n",
       "      <td>0.906145</td>\n",
       "      <td>0.528931</td>\n",
       "      <td>0.552895</td>\n",
       "      <td>0.470014</td>\n",
       "      <td>0.284666</td>\n",
       "      <td>0.290523</td>\n",
       "      <td>0.240890</td>\n",
       "      <td>0.057609</td>\n",
       "      <td>0.082880</td>\n",
       "      <td>-0.070579</td>\n",
       "    </tr>\n",
       "    <tr>\n",
       "      <th>BILL_AMT_AVG_B</th>\n",
       "      <td>0.306119</td>\n",
       "      <td>0.254094</td>\n",
       "      <td>0.254671</td>\n",
       "      <td>0.979573</td>\n",
       "      <td>0.906145</td>\n",
       "      <td>1.000000</td>\n",
       "      <td>0.536568</td>\n",
       "      <td>0.470671</td>\n",
       "      <td>0.555814</td>\n",
       "      <td>0.265785</td>\n",
       "      <td>0.248750</td>\n",
       "      <td>0.248042</td>\n",
       "      <td>0.009483</td>\n",
       "      <td>0.180651</td>\n",
       "      <td>-0.083994</td>\n",
       "    </tr>\n",
       "    <tr>\n",
       "      <th>BILL_LIMIT_RAT_AVG_FULL</th>\n",
       "      <td>0.029855</td>\n",
       "      <td>0.006446</td>\n",
       "      <td>0.039222</td>\n",
       "      <td>0.545919</td>\n",
       "      <td>0.528931</td>\n",
       "      <td>0.536568</td>\n",
       "      <td>1.000000</td>\n",
       "      <td>0.956253</td>\n",
       "      <td>0.966614</td>\n",
       "      <td>0.562218</td>\n",
       "      <td>0.523258</td>\n",
       "      <td>0.527694</td>\n",
       "      <td>0.039028</td>\n",
       "      <td>0.088545</td>\n",
       "      <td>-0.063590</td>\n",
       "    </tr>\n",
       "    <tr>\n",
       "      <th>BILL_LIMIT_RAT_AVG_A</th>\n",
       "      <td>0.050664</td>\n",
       "      <td>0.020674</td>\n",
       "      <td>0.058921</td>\n",
       "      <td>0.521150</td>\n",
       "      <td>0.552895</td>\n",
       "      <td>0.470671</td>\n",
       "      <td>0.956253</td>\n",
       "      <td>1.000000</td>\n",
       "      <td>0.849369</td>\n",
       "      <td>0.567278</td>\n",
       "      <td>0.550611</td>\n",
       "      <td>0.509171</td>\n",
       "      <td>0.068933</td>\n",
       "      <td>0.014453</td>\n",
       "      <td>-0.049610</td>\n",
       "    </tr>\n",
       "    <tr>\n",
       "      <th>BILL_LIMIT_RAT_AVG_B</th>\n",
       "      <td>0.009488</td>\n",
       "      <td>-0.006480</td>\n",
       "      <td>0.019155</td>\n",
       "      <td>0.528470</td>\n",
       "      <td>0.470014</td>\n",
       "      <td>0.555814</td>\n",
       "      <td>0.966614</td>\n",
       "      <td>0.849369</td>\n",
       "      <td>1.000000</td>\n",
       "      <td>0.517472</td>\n",
       "      <td>0.461781</td>\n",
       "      <td>0.506081</td>\n",
       "      <td>0.010036</td>\n",
       "      <td>0.147092</td>\n",
       "      <td>-0.071275</td>\n",
       "    </tr>\n",
       "    <tr>\n",
       "      <th>REPAY_AVG_FULL</th>\n",
       "      <td>-0.075987</td>\n",
       "      <td>-0.070322</td>\n",
       "      <td>-0.057530</td>\n",
       "      <td>0.281191</td>\n",
       "      <td>0.284666</td>\n",
       "      <td>0.265785</td>\n",
       "      <td>0.562218</td>\n",
       "      <td>0.567278</td>\n",
       "      <td>0.517472</td>\n",
       "      <td>1.000000</td>\n",
       "      <td>0.936428</td>\n",
       "      <td>0.932711</td>\n",
       "      <td>0.019985</td>\n",
       "      <td>0.062795</td>\n",
       "      <td>0.086734</td>\n",
       "    </tr>\n",
       "    <tr>\n",
       "      <th>REPAY_AVG_A</th>\n",
       "      <td>-0.036067</td>\n",
       "      <td>-0.050749</td>\n",
       "      <td>-0.013679</td>\n",
       "      <td>0.274628</td>\n",
       "      <td>0.290523</td>\n",
       "      <td>0.248750</td>\n",
       "      <td>0.523258</td>\n",
       "      <td>0.550611</td>\n",
       "      <td>0.461781</td>\n",
       "      <td>0.936428</td>\n",
       "      <td>1.000000</td>\n",
       "      <td>0.746889</td>\n",
       "      <td>0.053453</td>\n",
       "      <td>0.017424</td>\n",
       "      <td>-0.008977</td>\n",
       "    </tr>\n",
       "    <tr>\n",
       "      <th>REPAY_AVG_B</th>\n",
       "      <td>-0.106941</td>\n",
       "      <td>-0.081113</td>\n",
       "      <td>-0.094972</td>\n",
       "      <td>0.250643</td>\n",
       "      <td>0.240890</td>\n",
       "      <td>0.248042</td>\n",
       "      <td>0.527694</td>\n",
       "      <td>0.509171</td>\n",
       "      <td>0.506081</td>\n",
       "      <td>0.932711</td>\n",
       "      <td>0.746889</td>\n",
       "      <td>1.000000</td>\n",
       "      <td>-0.017066</td>\n",
       "      <td>0.101101</td>\n",
       "      <td>0.173606</td>\n",
       "    </tr>\n",
       "    <tr>\n",
       "      <th>PAY_SCORE</th>\n",
       "      <td>0.072398</td>\n",
       "      <td>0.058224</td>\n",
       "      <td>0.061697</td>\n",
       "      <td>0.032593</td>\n",
       "      <td>0.057609</td>\n",
       "      <td>0.009483</td>\n",
       "      <td>0.039028</td>\n",
       "      <td>0.068933</td>\n",
       "      <td>0.010036</td>\n",
       "      <td>0.019985</td>\n",
       "      <td>0.053453</td>\n",
       "      <td>-0.017066</td>\n",
       "      <td>1.000000</td>\n",
       "      <td>0.011876</td>\n",
       "      <td>-0.056939</td>\n",
       "    </tr>\n",
       "    <tr>\n",
       "      <th>BILL_SCORE</th>\n",
       "      <td>0.011251</td>\n",
       "      <td>0.060223</td>\n",
       "      <td>-0.030558</td>\n",
       "      <td>0.138539</td>\n",
       "      <td>0.082880</td>\n",
       "      <td>0.180651</td>\n",
       "      <td>0.088545</td>\n",
       "      <td>0.014453</td>\n",
       "      <td>0.147092</td>\n",
       "      <td>0.062795</td>\n",
       "      <td>0.017424</td>\n",
       "      <td>0.101101</td>\n",
       "      <td>0.011876</td>\n",
       "      <td>1.000000</td>\n",
       "      <td>-0.023077</td>\n",
       "    </tr>\n",
       "    <tr>\n",
       "      <th>REPAY_SCORE</th>\n",
       "      <td>-0.038141</td>\n",
       "      <td>-0.043340</td>\n",
       "      <td>-0.022567</td>\n",
       "      <td>-0.079648</td>\n",
       "      <td>-0.070579</td>\n",
       "      <td>-0.083994</td>\n",
       "      <td>-0.063590</td>\n",
       "      <td>-0.049610</td>\n",
       "      <td>-0.071275</td>\n",
       "      <td>0.086734</td>\n",
       "      <td>-0.008977</td>\n",
       "      <td>0.173606</td>\n",
       "      <td>-0.056939</td>\n",
       "      <td>-0.023077</td>\n",
       "      <td>1.000000</td>\n",
       "    </tr>\n",
       "  </tbody>\n",
       "</table>\n",
       "</div>"
      ],
      "text/plain": [
       "                         PAY_AMT_AVG_FULL  PAY_AMT_AVG_A  PAY_AMT_AVG_B  \\\n",
       "PAY_AMT_AVG_FULL                 1.000000       0.779997       0.871202   \n",
       "PAY_AMT_AVG_A                    0.779997       1.000000       0.372324   \n",
       "PAY_AMT_AVG_B                    0.871202       0.372324       1.000000   \n",
       "BILL_AMT_AVG_FULL                0.342690       0.279179       0.289232   \n",
       "BILL_AMT_AVG_A                   0.367464       0.293926       0.314405   \n",
       "BILL_AMT_AVG_B                   0.306119       0.254094       0.254671   \n",
       "BILL_LIMIT_RAT_AVG_FULL          0.029855       0.006446       0.039222   \n",
       "BILL_LIMIT_RAT_AVG_A             0.050664       0.020674       0.058921   \n",
       "BILL_LIMIT_RAT_AVG_B             0.009488      -0.006480       0.019155   \n",
       "REPAY_AVG_FULL                  -0.075987      -0.070322      -0.057530   \n",
       "REPAY_AVG_A                     -0.036067      -0.050749      -0.013679   \n",
       "REPAY_AVG_B                     -0.106941      -0.081113      -0.094972   \n",
       "PAY_SCORE                        0.072398       0.058224       0.061697   \n",
       "BILL_SCORE                       0.011251       0.060223      -0.030558   \n",
       "REPAY_SCORE                     -0.038141      -0.043340      -0.022567   \n",
       "\n",
       "                         BILL_AMT_AVG_FULL  BILL_AMT_AVG_A  BILL_AMT_AVG_B  \\\n",
       "PAY_AMT_AVG_FULL                  0.342690        0.367464        0.306119   \n",
       "PAY_AMT_AVG_A                     0.279179        0.293926        0.254094   \n",
       "PAY_AMT_AVG_B                     0.289232        0.314405        0.254671   \n",
       "BILL_AMT_AVG_FULL                 1.000000        0.972689        0.979573   \n",
       "BILL_AMT_AVG_A                    0.972689        1.000000        0.906145   \n",
       "BILL_AMT_AVG_B                    0.979573        0.906145        1.000000   \n",
       "BILL_LIMIT_RAT_AVG_FULL           0.545919        0.528931        0.536568   \n",
       "BILL_LIMIT_RAT_AVG_A              0.521150        0.552895        0.470671   \n",
       "BILL_LIMIT_RAT_AVG_B              0.528470        0.470014        0.555814   \n",
       "REPAY_AVG_FULL                    0.281191        0.284666        0.265785   \n",
       "REPAY_AVG_A                       0.274628        0.290523        0.248750   \n",
       "REPAY_AVG_B                       0.250643        0.240890        0.248042   \n",
       "PAY_SCORE                         0.032593        0.057609        0.009483   \n",
       "BILL_SCORE                        0.138539        0.082880        0.180651   \n",
       "REPAY_SCORE                      -0.079648       -0.070579       -0.083994   \n",
       "\n",
       "                         BILL_LIMIT_RAT_AVG_FULL  BILL_LIMIT_RAT_AVG_A  \\\n",
       "PAY_AMT_AVG_FULL                        0.029855              0.050664   \n",
       "PAY_AMT_AVG_A                           0.006446              0.020674   \n",
       "PAY_AMT_AVG_B                           0.039222              0.058921   \n",
       "BILL_AMT_AVG_FULL                       0.545919              0.521150   \n",
       "BILL_AMT_AVG_A                          0.528931              0.552895   \n",
       "BILL_AMT_AVG_B                          0.536568              0.470671   \n",
       "BILL_LIMIT_RAT_AVG_FULL                 1.000000              0.956253   \n",
       "BILL_LIMIT_RAT_AVG_A                    0.956253              1.000000   \n",
       "BILL_LIMIT_RAT_AVG_B                    0.966614              0.849369   \n",
       "REPAY_AVG_FULL                          0.562218              0.567278   \n",
       "REPAY_AVG_A                             0.523258              0.550611   \n",
       "REPAY_AVG_B                             0.527694              0.509171   \n",
       "PAY_SCORE                               0.039028              0.068933   \n",
       "BILL_SCORE                              0.088545              0.014453   \n",
       "REPAY_SCORE                            -0.063590             -0.049610   \n",
       "\n",
       "                         BILL_LIMIT_RAT_AVG_B  REPAY_AVG_FULL  REPAY_AVG_A  \\\n",
       "PAY_AMT_AVG_FULL                     0.009488       -0.075987    -0.036067   \n",
       "PAY_AMT_AVG_A                       -0.006480       -0.070322    -0.050749   \n",
       "PAY_AMT_AVG_B                        0.019155       -0.057530    -0.013679   \n",
       "BILL_AMT_AVG_FULL                    0.528470        0.281191     0.274628   \n",
       "BILL_AMT_AVG_A                       0.470014        0.284666     0.290523   \n",
       "BILL_AMT_AVG_B                       0.555814        0.265785     0.248750   \n",
       "BILL_LIMIT_RAT_AVG_FULL              0.966614        0.562218     0.523258   \n",
       "BILL_LIMIT_RAT_AVG_A                 0.849369        0.567278     0.550611   \n",
       "BILL_LIMIT_RAT_AVG_B                 1.000000        0.517472     0.461781   \n",
       "REPAY_AVG_FULL                       0.517472        1.000000     0.936428   \n",
       "REPAY_AVG_A                          0.461781        0.936428     1.000000   \n",
       "REPAY_AVG_B                          0.506081        0.932711     0.746889   \n",
       "PAY_SCORE                            0.010036        0.019985     0.053453   \n",
       "BILL_SCORE                           0.147092        0.062795     0.017424   \n",
       "REPAY_SCORE                         -0.071275        0.086734    -0.008977   \n",
       "\n",
       "                         REPAY_AVG_B  PAY_SCORE  BILL_SCORE  REPAY_SCORE  \n",
       "PAY_AMT_AVG_FULL           -0.106941   0.072398    0.011251    -0.038141  \n",
       "PAY_AMT_AVG_A              -0.081113   0.058224    0.060223    -0.043340  \n",
       "PAY_AMT_AVG_B              -0.094972   0.061697   -0.030558    -0.022567  \n",
       "BILL_AMT_AVG_FULL           0.250643   0.032593    0.138539    -0.079648  \n",
       "BILL_AMT_AVG_A              0.240890   0.057609    0.082880    -0.070579  \n",
       "BILL_AMT_AVG_B              0.248042   0.009483    0.180651    -0.083994  \n",
       "BILL_LIMIT_RAT_AVG_FULL     0.527694   0.039028    0.088545    -0.063590  \n",
       "BILL_LIMIT_RAT_AVG_A        0.509171   0.068933    0.014453    -0.049610  \n",
       "BILL_LIMIT_RAT_AVG_B        0.506081   0.010036    0.147092    -0.071275  \n",
       "REPAY_AVG_FULL              0.932711   0.019985    0.062795     0.086734  \n",
       "REPAY_AVG_A                 0.746889   0.053453    0.017424    -0.008977  \n",
       "REPAY_AVG_B                 1.000000  -0.017066    0.101101     0.173606  \n",
       "PAY_SCORE                  -0.017066   1.000000    0.011876    -0.056939  \n",
       "BILL_SCORE                  0.101101   0.011876    1.000000    -0.023077  \n",
       "REPAY_SCORE                 0.173606  -0.056939   -0.023077     1.000000  "
      ]
     },
     "execution_count": 28,
     "metadata": {},
     "output_type": "execute_result"
    }
   ],
   "source": [
    "#quick look at correlation between the variables\n",
    "df_cont.corr()"
   ]
  },
  {
   "cell_type": "markdown",
   "metadata": {},
   "source": [
    "No greatly surprising results in above. Where there is naturally high correlation and essentially duplication of data (e.g. between averages over 6 periods and those of 3), variables will be dropped accordingly to make way for those of more significance."
   ]
  },
  {
   "cell_type": "markdown",
   "metadata": {
    "collapsed": true
   },
   "source": [
    "### Categorical Explanatory Variables\n",
    "For the categorical variables a different test of association is required. I decided to use Pearsons' Chi Square Independence Test under the Null Hypothesis that the categorical explanatory variable and the dichotmous explained variable are independent of one another. The test is suitable for all grid sizes and the expected counts are suffciently large for this test also."
   ]
  },
  {
   "cell_type": "code",
   "execution_count": 29,
   "metadata": {
    "collapsed": false
   },
   "outputs": [
    {
     "name": "stdout",
     "output_type": "stream",
     "text": [
      "MARRIAGE : (32.142243959046255, 1.0480944138946852e-07, 2, array([[ 10420.10991248,   3004.89008752],\n",
      "       [ 12215.39588846,   3522.60411154],\n",
      "       [   244.49419906,     70.50580094]]))\n",
      "SEX : (45.744079662370098, 1.3475601294287318e-11, 1, array([[  9084.31779632,   2619.68220368],\n",
      "       [ 13795.68220368,   3978.31779632]]))\n",
      "EDUCATION : (98.816227756796266, 3.4860112262384947e-22, 2, array([[  8212.67657236,   2368.32342764],\n",
      "       [ 10885.03697673,   3138.96302327],\n",
      "       [  3782.28645091,   1090.71354909]]))\n",
      "AGE_GROUP : (36.866440293668418, 6.3702925695916702e-07, 5, array([[  8.41448131e+03,   2.42651869e+03],\n",
      "       [  8.17076328e+03,   2.35623672e+03],\n",
      "       [  4.56622023e+03,   1.31677977e+03],\n",
      "       [  1.51974489e+03,   4.38255106e+02],\n",
      "       [  1.97147703e+02,   5.68522966e+01],\n",
      "       [  1.16425809e+01,   3.35741909e+00]]))\n"
     ]
    }
   ],
   "source": [
    "for col in ['MARRIAGE', 'SEX', 'EDUCATION', 'AGE_GROUP']:\n",
    "    observed = pd.crosstab(df[col], df['DEFAULT'], margins = False)\n",
    "    result = scipy.stats.chi2_contingency(observed)\n",
    "    print (col, ':', result)"
   ]
  },
  {
   "cell_type": "markdown",
   "metadata": {},
   "source": [
    "Although the Chi Square test gives no indication as to the relationship between the explanatory and the explained, the very small p-values suggest that we can reject the notion of independence and accept that there is some degree of association. As such, all the categorical variables will be retained."
   ]
  },
  {
   "cell_type": "code",
   "execution_count": null,
   "metadata": {
    "collapsed": true
   },
   "outputs": [],
   "source": []
  },
  {
   "cell_type": "markdown",
   "metadata": {},
   "source": [
    "With the Payment and Bill amounts performing rather poorly in isolation, I attempted to see whether a ratio between the two would be helpful in explaining Default. Intuitively a ratio of 1:1 would suggest a good user that pays the whole bill. \n",
    "\n",
    "I looked at the amount for both variables totalled over the 6 periods to smooth out any unusual behaviour occuring in just a single month. Importantly, to stick to real numbers it would be necessary to delete any Total Bill Amounts that were zero."
   ]
  },
  {
   "cell_type": "code",
   "execution_count": 30,
   "metadata": {
    "collapsed": true
   },
   "outputs": [],
   "source": [
    "#create a reduced dataframe of just postivie amounts for Total Bill\n",
    "df['TOTAL_BILL'] = df['BILL_AMT1'] + df['BILL_AMT2'] + df['BILL_AMT3'] + df['BILL_AMT4'] + df['BILL_AMT5'] + df['BILL_AMT6']\n",
    "df_pos_bill = df[df['TOTAL_BILL'] !=0]\n",
    "reduced_df = df_pos_bill.copy()"
   ]
  },
  {
   "cell_type": "code",
   "execution_count": 31,
   "metadata": {
    "collapsed": false
   },
   "outputs": [],
   "source": [
    "#for this dataframe also calculate Total Pay and ratio between that and Total Bill\n",
    "reduced_df['TOTAL_PAY'] = reduced_df['PAY_AMT1'] + reduced_df['PAY_AMT2'] + reduced_df['PAY_AMT3'] + reduced_df['PAY_AMT4'] + reduced_df['PAY_AMT5'] + reduced_df['PAY_AMT6']\n",
    "reduced_df['TOTAL_PAY_BILL'] = reduced_df['TOTAL_PAY'] / reduced_df['TOTAL_BILL']"
   ]
  },
  {
   "cell_type": "code",
   "execution_count": 32,
   "metadata": {
    "collapsed": false
   },
   "outputs": [
    {
     "data": {
      "text/plain": [
       "PointbiserialrResult(correlation=-0.011549367757713662, pvalue=0.05071230917306397)"
      ]
     },
     "execution_count": 32,
     "metadata": {},
     "output_type": "execute_result"
    }
   ],
   "source": [
    "scipy.stats.pointbiserialr(reduced_df['TOTAL_PAY_BILL'], reduced_df['DEFAULT'])"
   ]
  },
  {
   "cell_type": "markdown",
   "metadata": {},
   "source": [
    "Almost zero correlation and p-value is of questionable significance. Perhaps just as importantly, using this reduced dataframe would mean the loss of 852 rows which is far too high a sacrifice for this. Variable will not be used."
   ]
  },
  {
   "cell_type": "code",
   "execution_count": null,
   "metadata": {
    "collapsed": true
   },
   "outputs": [],
   "source": []
  },
  {
   "cell_type": "markdown",
   "metadata": {},
   "source": [
    "In addition to the above experiment with Payment/Bill, the other variables I will drop from further modelling are all the Bill Amounts (Full, A & B being so close to zero), the averaged Payment Amounts for periods A and B (the full 6 month period being a stronger correlation), the Bill Amount/Limit Amount Ratio averaged over 6 months (periods A & B being more informative separately), the Repayment Delay  averaged over 6 months (periods A & B being more informative separately), the Pay Score and the Bill Score (correlation coefficients so close to zero."
   ]
  },
  {
   "cell_type": "code",
   "execution_count": null,
   "metadata": {
    "collapsed": true
   },
   "outputs": [],
   "source": []
  }
 ],
 "metadata": {
  "kernelspec": {
   "display_name": "Python 3",
   "language": "python",
   "name": "python3"
  },
  "language_info": {
   "codemirror_mode": {
    "name": "ipython",
    "version": 3
   },
   "file_extension": ".py",
   "mimetype": "text/x-python",
   "name": "python",
   "nbconvert_exporter": "python",
   "pygments_lexer": "ipython3",
   "version": "3.5.2"
  }
 },
 "nbformat": 4,
 "nbformat_minor": 1
}
